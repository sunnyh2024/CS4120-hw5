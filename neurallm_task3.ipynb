{
 "cells": [
  {
   "cell_type": "markdown",
   "metadata": {},
   "source": [
    "Homework 5: Neural Language Models  (& 🎃 SpOoKy 👻 authors 🧟 data) - Task 3\n",
    "---"
   ]
  },
  {
   "cell_type": "markdown",
   "metadata": {},
   "source": [
    "Task 3: Feedforward Neural Language Model (60 points)\n",
    "--------------------------\n",
    "\n",
    "For this task, you will create and train neural LMs for both your word-based embeddings and your character-based ones. You should write functions when appropriate to avoid excessive copy+pasting."
   ]
  },
  {
   "cell_type": "markdown",
   "metadata": {},
   "source": [
    "### a) First, encode  your text into integers (5 points)"
   ]
  },
  {
   "cell_type": "code",
   "execution_count": 1,
   "metadata": {},
   "outputs": [
    {
     "name": "stderr",
     "output_type": "stream",
     "text": [
      "[nltk_data] Downloading package punkt to\n",
      "[nltk_data]     C:\\Users\\shash\\AppData\\Roaming\\nltk_data...\n",
      "[nltk_data]   Package punkt is already up-to-date!\n"
     ]
    }
   ],
   "source": [
    "# Importing utility functions from Keras\n",
    "import keras\n",
    "from keras.preprocessing.text import Tokenizer\n",
    "from keras.utils import to_categorical\n",
    "\n",
    "# necessary\n",
    "from keras.models import Sequential\n",
    "from keras.layers import Dense\n",
    "\n",
    "# optional\n",
    "# from keras.layers import Dropout\n",
    "\n",
    "# if you want fancy progress bars\n",
    "from tqdm import notebook\n",
    "from IPython.display import display\n",
    "\n",
    "# your other imports here\n",
    "import time\n",
    "import neurallm_utils as nutils\n",
    "\n",
    "import numpy as np\n"
   ]
  },
  {
   "cell_type": "code",
   "execution_count": 2,
   "metadata": {},
   "outputs": [],
   "source": [
    "# constants you may find helpful. Edit as you would like.\n",
    "EMBEDDINGS_SIZE = 50\n",
    "NGRAM = 3 # The ngram language model you want to train"
   ]
  },
  {
   "cell_type": "code",
   "execution_count": 3,
   "metadata": {},
   "outputs": [],
   "source": [
    "# load in necessary data\n",
    "TRAIN_FILE = 'spooky_author_train.csv'\n",
    "data_train_word = nutils.read_file_spooky(TRAIN_FILE, NGRAM, by_character=False)\n",
    "data_train_char = nutils.read_file_spooky(TRAIN_FILE, NGRAM, by_character=True)"
   ]
  },
  {
   "cell_type": "code",
   "execution_count": 4,
   "metadata": {},
   "outputs": [],
   "source": [
    "# Initialize a Tokenizer and fit on your data\n",
    "# do this for both the word and character data\n",
    "word_tokenizer = Tokenizer(char_level=False)\n",
    "char_tokenizer = Tokenizer(char_level=True)\n",
    "\n",
    "word_tokenizer.fit_on_texts(data_train_word)\n",
    "word_encoded = word_tokenizer.texts_to_sequences(data_train_word)\n",
    "\n",
    "char_tokenizer.fit_on_texts(data_train_char)\n",
    "char_encoded = char_tokenizer.texts_to_sequences(data_train_char)\n",
    "\n",
    "# It is used to vectorize a text corpus. Here, it just creates a mapping from \n",
    "# word to a unique index. (Note: Indexing starts from 0)\n",
    "# Example:\n",
    "# tokenizer = Tokenizer()\n",
    "# tokenizer.fit_on_texts(data)\n",
    "# encoded = tokenizer.texts_to_sequences(data)\n"
   ]
  },
  {
   "cell_type": "code",
   "execution_count": 5,
   "metadata": {},
   "outputs": [
    {
     "name": "stdout",
     "output_type": "stream",
     "text": [
      "char_tokenizer counts:  60\n",
      "word_tokenizer counts:  25374\n"
     ]
    }
   ],
   "source": [
    "# print out the size of the word index for each of your tokenizers\n",
    "# this should match what you calculated in Task 2 with your embeddings\n",
    "print(\"char_tokenizer counts: \", len(char_tokenizer.word_counts))\n",
    "print(\"word_tokenizer counts: \",len(word_tokenizer.word_counts))\n",
    "\n"
   ]
  },
  {
   "cell_type": "markdown",
   "metadata": {},
   "source": [
    "### b) Next, prepare the sequences to train your model from text (5 points)"
   ]
  },
  {
   "cell_type": "markdown",
   "metadata": {},
   "source": [
    "#### Fixed n-gram based sequences"
   ]
  },
  {
   "cell_type": "raw",
   "metadata": {},
   "source": [
    "The training samples will be structured in the following format. \n",
    "Depening on which ngram model we choose, there will be (n-1) tokens \n",
    "in the input sequence (X) and we will need to predict the nth token (Y)\n",
    "\n",
    "            X,\t\t\t\t\t\t  y\n",
    "    this,    process                                    however\n",
    "    process, however                                    afforded\n",
    "    however, afforded\t                                me\n",
    "\n",
    "\n",
    "Our first step is to translate the text into sequences of numbers, \n",
    "one sequence per n-gram window."
   ]
  },
  {
   "cell_type": "code",
   "execution_count": 6,
   "metadata": {},
   "outputs": [
    {
     "name": "stdout",
     "output_type": "stream",
     "text": [
      "[[1, 1, 32], [1, 32, 2956], [32, 2956, 3], [2956, 3, 155], [3, 155, 3]]\n",
      "[[21, 21, 3], [21, 3, 9], [3, 9, 7], [9, 7, 8], [7, 8, 1]]\n",
      "634080\n",
      "2957553\n"
     ]
    }
   ],
   "source": [
    "def generate_ngram_training_samples(encoded: list, ngram: int) -> list:\n",
    "    '''\n",
    "    Takes the encoded data (list of lists) and \n",
    "    generates the training samples out of it.\n",
    "    Parameters:\n",
    "    up to you, we've put in what we used\n",
    "    but you can add/remove as needed\n",
    "    return: \n",
    "    list of lists in the format [[x1, x2, ... , x(n-1), y], ...]\n",
    "    '''\n",
    "\n",
    "    ngrams = []\n",
    "    for sentence in encoded:\n",
    "        ngrams += [sentence[i:i+ngram] for i in range(0, len(sentence)-NGRAM+1)]\n",
    "\n",
    "    print(ngrams[:5])\n",
    "    return ngrams\n",
    "\n",
    "\n",
    "# generate your training samples for both word and character data\n",
    "# print out the first 5 training samples for each\n",
    "# we have displayed the number of sequences\n",
    "# to expect for both characters and words\n",
    "#\n",
    "# Spooky data by character should give 2957553 sequences\n",
    "# [21, 21, 3]\n",
    "# [21, 3, 9]\n",
    "# [3, 9, 7]\n",
    "# ...\n",
    "# Spooky data by words shoud give 634080 sequences\n",
    "# [1, 1, 32]\n",
    "# [1, 32, 2956]\n",
    "# [32, 2956, 3]\n",
    "# ...\n",
    "word_train = generate_ngram_training_samples(word_encoded, NGRAM)\n",
    "char_train = generate_ngram_training_samples(char_encoded, NGRAM)\n",
    "print(len(word_train))\n",
    "print(len(char_train))\n"
   ]
  },
  {
   "cell_type": "markdown",
   "metadata": {},
   "source": [
    "### c) Then, split the sequences into X and y and create a Data Generator (20 points)"
   ]
  },
  {
   "cell_type": "code",
   "execution_count": 7,
   "metadata": {},
   "outputs": [
    {
     "name": "stdout",
     "output_type": "stream",
     "text": [
      "634080   634080\n",
      "2957553   2957553\n"
     ]
    }
   ],
   "source": [
    "# 2.5 points\n",
    "# Note here that the sequences were in the form: \n",
    "# sequence = [x1, x2, ... , x(n-1), y]\n",
    "# We still need to separate it into [[x1, x2, ... , x(n-1)], ...], [y1, y2, ...]]\n",
    "# do that here\n",
    "word_x = [sublist[:-1] for sublist in word_train]\n",
    "word_y = [sublist[-1] for sublist in word_train]\n",
    "\n",
    "char_x = [sublist[:-1] for sublist in char_train]\n",
    "char_y = [sublist[-1] for sublist in char_train]\n",
    "\n",
    "\n",
    "# print out the shapes to verify that they are correct\n",
    "print(len(word_x), \" \", len(word_y))\n",
    "print(len(char_x), \" \", len(char_y))\n",
    "\n"
   ]
  },
  {
   "cell_type": "code",
   "execution_count": 8,
   "metadata": {},
   "outputs": [],
   "source": [
    "# 2.5 points\n",
    "\n",
    "# Initialize a function that reads the word embeddings you saved earlier\n",
    "# and gives you back mappings from words to their embeddings and also \n",
    "# indexes from the tokenizers to their embeddings\n",
    "\n",
    "def read_embeddings(filename: str, tokenizer: Tokenizer) -> (dict, dict):\n",
    "    '''Loads and parses embeddings trained in earlier.\n",
    "    Parameters:\n",
    "        filename (str): path to file\n",
    "        Tokenizer: tokenizer used to tokenize the data (needed to get the word to index mapping)\n",
    "    Returns:\n",
    "        (dict): mapping from word to its embedding vector\n",
    "        (dict): mapping from index to its embedding vector\n",
    "    '''\n",
    "    # YOUR CODE HERE\n",
    "    word_to_embedding = {}\n",
    "    index_to_embedding = {}\n",
    "\n",
    "    with open(filename, 'r', encoding='utf-8') as f:\n",
    "        for line in f:\n",
    "            tokens = line.split()\n",
    "            if len(tokens) == 2:\n",
    "                continue\n",
    "            embedding_vector = [float(x) for x in tokens[1:]]\n",
    "        \n",
    "            if tokens[0] in tokenizer.word_index:\n",
    "                word_to_embedding[tokens[0]] = embedding_vector\n",
    "                index_to_embedding[tokenizer.word_index[tokens[0]]] = embedding_vector\n",
    "    \n",
    "    return word_to_embedding, index_to_embedding\n"
   ]
  },
  {
   "cell_type": "code",
   "execution_count": 9,
   "metadata": {},
   "outputs": [],
   "source": [
    "# NECESSARY FOR CHARACTERS\n",
    "\n",
    "# the \"0\" index of the Tokenizer is assigned for the padding token. Initialize\n",
    "# the vector for padding token as all zeros of embedding size\n",
    "# this adds one to the number of embeddings that were initially saved\n",
    "# (and increases your vocab size by 1)\n",
    "_, word_embedding_index = read_embeddings('spooky_embedding_word.txt', word_tokenizer)\n",
    "word_embedding_index[0] = [0] * len(word_embedding_index[1])\n",
    "\n",
    "_, char_embedding_index = read_embeddings('spooky_embedding_char.txt', char_tokenizer)\n",
    "char_embedding_index[0] = [0] * len(char_embedding_index[1])"
   ]
  },
  {
   "cell_type": "code",
   "execution_count": 10,
   "metadata": {},
   "outputs": [],
   "source": [
    "# 10 points\n",
    "def data_generator(X: list, y: list, num_sequences_per_batch: int, index_2_embedding: dict, for_feedforward: bool=True) -> (list,list):\n",
    "    '''\n",
    "    Returns data generator to be used by feed_forward\n",
    "    https://wiki.python.org/moin/Generators\n",
    "    https://realpython.com/introduction-to-python-generators/\n",
    "    \n",
    "    Yields batches of embeddings and labels to go with them.\n",
    "    Use one hot vectors to encode the labels \n",
    "    (see the to_categorical function)\n",
    "    \n",
    "    If for_feedforward is True: \n",
    "    Returns data generator to be used by feed_forward\n",
    "    else: Returns data generator for RNN model\n",
    "    '''\n",
    "    \n",
    "    for i in range(0, len(X), num_sequences_per_batch):\n",
    "\n",
    "        if for_feedforward:\n",
    "            batch_X = X[i:i + num_sequences_per_batch]\n",
    "            batch_y = y[i:i + num_sequences_per_batch]\n",
    "        else: \n",
    "            batch_X = X[i:]\n",
    "            batch_y = y[i:]\n",
    "            for j in range((i +  num_sequences_per_batch) - len(X)):\n",
    "                n_gram = len(batch_X[0])\n",
    "                batch_X.append([0] * n_gram)\n",
    "                batch_y.append(0)\n",
    "\n",
    "        embeddings = []\n",
    "        for x_vector in batch_X:\n",
    "            cur_vector = []\n",
    "            for token in x_vector:\n",
    "                cur_vector.extend(index_2_embedding[token])\n",
    "            embeddings.append(cur_vector)\n",
    "\n",
    "        one_hot_vectors = to_categorical(batch_y, num_classes=len(index_2_embedding))\n",
    "        yield np.array(embeddings), one_hot_vectors"
   ]
  },
  {
   "cell_type": "code",
   "execution_count": 11,
   "metadata": {},
   "outputs": [
    {
     "name": "stdout",
     "output_type": "stream",
     "text": [
      "(128, 100)\n",
      "(128, 25375)\n"
     ]
    }
   ],
   "source": [
    "# 5 points\n",
    "\n",
    "# initialize your data_generator for both word and character data\n",
    "# print out the shapes of the first batch to verify that it is correct for both word and character data\n",
    "\n",
    "# word_embedding, word_index_embedding = read_embeddings('spooky_embedding_word.txt', word_tokenizer)\n",
    "# word_generator = data_generator(word_x, word_y, 128, word_embedding)\n",
    "\n",
    "# char_embedding, char_index_embedding = read_embeddings('spooky_embedding_char.txt', char_tokenizer)\n",
    "# char_generator = data_generator(char_x, char_y, 128, char_embedding)\n",
    "\n",
    "# sample = next(char_generator)\n",
    "# print(sample[0].shape)\n",
    "\n",
    "# steps_per_epoch = len(word_x)//128  # Number of batches per epoch\n",
    "\n",
    "num_sequences_per_batch = 128 # this is the batch size\n",
    "steps_per_epoch = len(word_x)//num_sequences_per_batch  # Number of batches per epoch\n",
    "steps_per_epoch_char = len(char_x)//num_sequences_per_batch  # Number of batches per epoch\n",
    "\n",
    "\n",
    "word_generator = data_generator(word_x, word_y, num_sequences_per_batch, word_embedding_index)\n",
    "sample = next(word_generator)\n",
    "\n",
    "char_generator = data_generator(char_x, char_y, num_sequences_per_batch, char_embedding_index)\n",
    "sample = next(word_generator)\n",
    "\n",
    "\n",
    "print(sample[0].shape)\n",
    "\n",
    "print(sample[1].shape)\n",
    "\n",
    "# Examples:\n",
    "# num_sequences_per_batch = 128 # this is the batch size\n",
    "# steps_per_epoch = len(sequences)//num_sequences_per_batch  # Number of batches per epoch\n",
    "# train_generator = data_generator(X, y, num_sequences_per_batch)\n",
    "\n",
    "# sample=next(train_generator) # this is how you get data out of generators\n",
    "# sample[0].shape # (batch_size, (n-1)*EMBEDDING_SIZE)  (128, 200)\n",
    "# sample[1].shape   # (batch_size, |V|) to_categorical\n"
   ]
  },
  {
   "cell_type": "markdown",
   "metadata": {},
   "source": [
    "### d) Train & __save__ your models (15 points)"
   ]
  },
  {
   "cell_type": "code",
   "execution_count": 12,
   "metadata": {},
   "outputs": [
    {
     "name": "stdout",
     "output_type": "stream",
     "text": [
      "Model: \"sequential\"\n",
      "_________________________________________________________________\n",
      " Layer (type)                Output Shape              Param #   \n",
      "=================================================================\n",
      " dense (Dense)               (None, 3)                 303       \n",
      "                                                                 \n",
      " dense_1 (Dense)             (None, 25375)             101500    \n",
      "                                                                 \n",
      "=================================================================\n",
      "Total params: 101803 (397.67 KB)\n",
      "Trainable params: 101803 (397.67 KB)\n",
      "Non-trainable params: 0 (0.00 Byte)\n",
      "_________________________________________________________________\n",
      "Model: \"sequential_1\"\n",
      "_________________________________________________________________\n",
      " Layer (type)                Output Shape              Param #   \n",
      "=================================================================\n",
      " dense_2 (Dense)             (None, 3)                 303       \n",
      "                                                                 \n",
      " dense_3 (Dense)             (None, 61)                244       \n",
      "                                                                 \n",
      "=================================================================\n",
      "Total params: 547 (2.14 KB)\n",
      "Trainable params: 547 (2.14 KB)\n",
      "Non-trainable params: 0 (0.00 Byte)\n",
      "_________________________________________________________________\n"
     ]
    }
   ],
   "source": [
    "# 15 points \n",
    "\n",
    "# code to train a feedforward neural language model for \n",
    "# both word embeddings and character embeddings\n",
    "# make sure not to just copy + paste to train your two models\n",
    "# (define functions as needed)\n",
    "\n",
    "# train your models for between 3 & 5 epochs\n",
    "# on Felix's machine, this takes ~ 24 min for character embeddings and ~ 10 min for word embeddings\n",
    "# DO NOT EXPECT ACCURACIES OVER 0.5 (and even that is very for this many epochs)\n",
    "# We recommend starting by training for 1 epoch\n",
    "\n",
    "# Define your model architecture using Keras Sequential API\n",
    "# Use the adam optimizer instead of sgd\n",
    "# add cells as desired\n",
    "\n",
    "# def create_feedforward_model():\n",
    "#     model = Sequential()\n",
    "#     model.add(Dense(units=3, input_dim=50, activation='relu'))\n",
    "#     model.add(Dense(25375, activation='sigmoid'))\n",
    "#     model.compile(loss='categorical_crossentropy', optimizer='adam', metrics=['accuracy'])\n",
    "#     return model\n",
    "\n",
    "# word_model = create_feedforward_model()\n",
    "# char_model = create_feedforward_model()\n",
    "def create_ff_model(units: int):\n",
    "    model = Sequential()\n",
    "    model.add(Dense(units=3, activation='relu', input_dim=100))\n",
    "    model.add(Dense(units=units, activation='sigmoid'))\n",
    "    model.summary()\n",
    "    model.compile(optimizer='adam',  # You can choose an optimizer (e.g., 'adam', 'sgd')\n",
    "                loss='categorical_crossentropy',  # Specify the loss function for classification\n",
    "                metrics=['accuracy'])  # Optional: Specify metrics for evaluation\n",
    "    return model\n",
    "\n",
    "word_model = create_ff_model(25375)\n",
    "char_model = create_ff_model(61)"
   ]
  },
  {
   "cell_type": "code",
   "execution_count": 13,
   "metadata": {},
   "outputs": [
    {
     "name": "stdout",
     "output_type": "stream",
     "text": [
      "Epoch 1/3\n",
      "4952/4952 [==============================] - 54s 11ms/step - loss: 6.3123 - accuracy: 0.1330\n",
      "Epoch 2/3\n",
      "WARNING:tensorflow:Your input ran out of data; interrupting training. Make sure that your dataset or generator can generate at least `steps_per_epoch * epochs` batches (in this case, 14856 batches). You may need to use the repeat() function when building your dataset.\n",
      "4952/4952 [==============================] - 0s 3us/step - loss: 0.0000e+00 - accuracy: 0.0000e+00\n",
      "Epoch 1/3\n",
      "23104/23104 [==============================] - 24s 1ms/step - loss: 2.4777 - accuracy: 0.2917\n",
      "Epoch 2/3\n",
      "    1/23104 [..............................] - ETA: 23s - loss: 2.4708 - accuracy: 0.2891WARNING:tensorflow:Your input ran out of data; interrupting training. Make sure that your dataset or generator can generate at least `steps_per_epoch * epochs` batches (in this case, 69312 batches). You may need to use the repeat() function when building your dataset.\n",
      "23104/23104 [==============================] - 0s 1us/step - loss: 2.3641 - accuracy: 0.3112\n"
     ]
    },
    {
     "data": {
      "text/plain": [
       "<keras.src.callbacks.History at 0x2c27902e650>"
      ]
     },
     "execution_count": 13,
     "metadata": {},
     "output_type": "execute_result"
    }
   ],
   "source": [
    "# Here is some example code to train a model with a data generator\n",
    "# model.fit(x=train_generator, \n",
    "#           steps_per_epoch=steps_per_epoch,\n",
    "#           epochs=1)\n",
    "\n",
    "\n",
    "# word_model.fit(x=word_generator, steps_per_epoch=steps_per_epoch, epochs=1)\n",
    "# char_model.fit(x=char_generator, steps_per_epoch=steps_per_epoch, epochs=1)\n",
    "\n",
    "word_model.fit(x=word_generator, \n",
    "          steps_per_epoch=steps_per_epoch-1,\n",
    "          epochs=3)\n",
    "\n",
    "char_model.fit(x=char_generator, \n",
    "          steps_per_epoch=steps_per_epoch_char-1,\n",
    "          epochs=3)\n"
   ]
  },
  {
   "cell_type": "code",
   "execution_count": 14,
   "metadata": {},
   "outputs": [],
   "source": [
    "\n",
    "# spooky data model by character for 5 epochs takes ~ 24 min on Felix's computer\n",
    "# with adam optimizer, gets accuracy of 0.3920\n",
    "\n",
    "# spooky data model by word for 5 epochs takes 10 min on Felix's computer\n",
    "# results in accuracy of 0.2110\n"
   ]
  },
  {
   "cell_type": "code",
   "execution_count": 15,
   "metadata": {},
   "outputs": [
    {
     "name": "stderr",
     "output_type": "stream",
     "text": [
      "c:\\Users\\shash\\anaconda3\\Lib\\site-packages\\keras\\src\\engine\\training.py:3079: UserWarning: You are saving your model as an HDF5 file via `model.save()`. This file format is considered legacy. We recommend using instead the native Keras format, e.g. `model.save('my_model.keras')`.\n",
      "  saving_api.save_model(\n"
     ]
    }
   ],
   "source": [
    "# save your trained models so you can re-load instead of re-training each time\n",
    "# also, you'll need these to generate your sentences!\n",
    "\n",
    "word_model.save('word_model.h5')\n",
    "char_model.save('char_model.h5')\n"
   ]
  },
  {
   "cell_type": "markdown",
   "metadata": {},
   "source": [
    "### e) Generate Sentences (15 points)"
   ]
  },
  {
   "cell_type": "code",
   "execution_count": 16,
   "metadata": {},
   "outputs": [],
   "source": [
    "# load your models if you need to\n"
   ]
  },
  {
   "cell_type": "code",
   "execution_count": 27,
   "metadata": {},
   "outputs": [],
   "source": [
    "# 10 points\n",
    "import random\n",
    "# generate a sequence from the model until you get an end of sentence token\n",
    "# This is an example function header you might use\n",
    "def generate_seq(model: Sequential, \n",
    "                 tokenizer: Tokenizer, \n",
    "                 seed: list):\n",
    "    '''\n",
    "    Parameters:\n",
    "        model: your neural network\n",
    "        tokenizer: the keras preprocessing tokenizer\n",
    "        seed: [w1, w2, w(n-1)]\n",
    "    Returns: string sentence\n",
    "    '''\n",
    "    sentence = []\n",
    "    sentence.extend(seed)\n",
    "\n",
    "    while True:\n",
    "        x = np.array([seed])\n",
    "        y = model.predict(x, verbose=False)\n",
    "        next_token = np.argmax(y)\n",
    "\n",
    "        if next_token == 2:  # Check for the end of sentence token\n",
    "            break\n",
    "\n",
    "        sentence.append(next_token)\n",
    "        seed = seed[1:] + [next_token]\n",
    "\n",
    "    return sentence\n",
    "\n",
    "word_generated = generate_seq(word_model, word_tokenizer, [random.randint(1, 2000)] * 100)\n",
    "char_generated = generate_seq(char_model, char_tokenizer, [random.randint(1, 60)] * 100)\n",
    "# prediction = \n",
    "# while prediction != word_tokenizer.word_index['</s>']:\n",
    "#     prediction = np.argmax(model_word.predict(np.array([random.choices([n for n in range(29000)], k=100)])))\n",
    "#     print(prediction)"
   ]
  },
  {
   "cell_type": "code",
   "execution_count": 25,
   "metadata": {},
   "outputs": [
    {
     "name": "stdout",
     "output_type": "stream",
     "text": [
      " , , , , , , , , , , , , , , , , , , , , , , ,\n",
      " _ _ _ _ _ _ _ _ _ _ _ _ _ _ _ _ _ _ _ _ _ _ _ _ _ t _ _ t t t t t t t t _ _ n _ _ t t t t t t t t t t t t t t t t t t t t t t t t t t t t t t t t t t t t t t t t t t _ _ _ _ _ _ _ _ _ _ _ _ _ _ _ _ _ _ _ _ _ _ _ _ _ n </s> h h f _ h h _ t t _ t t _ _ _ _ t </s> _ </s> t _ o _ _ h _ h _ _ _ _ _ _ o h h _ _ _ _ _ _ _ _ t _ t _ _ _ _ _ h h _ t _ _ _ _ _ t _ t t _ _ _ _ h h h\n"
     ]
    }
   ],
   "source": [
    "# 5 points\n",
    "\n",
    "# generate and display one sequence from both the word model and the character model\n",
    "# do not include <s> or </s> in your displayed sentences\n",
    "# make sure that you can read the output easily (i.e. don't just print out a list of tokens)\n",
    "words = \"\"\n",
    "for word in word_generated:\n",
    "    words += \" \" + word_tokenizer.index_word[word]\n",
    "\n",
    "chars = ''\n",
    "for char in char_generated:\n",
    "    chars += \" \" + char_tokenizer.index_word[char]\n",
    "\n",
    "print(words)\n",
    "print(chars)\n",
    "# you may leave _ as _ or replace it with a space if you prefer"
   ]
  },
  {
   "cell_type": "code",
   "execution_count": 32,
   "metadata": {},
   "outputs": [],
   "source": [
    "# generate 100 example sentences with each model and save them to a file, one sentence per line\n",
    "# do not include <s> and </s> in your saved sentences (you'll use these sentences in your next task)\n",
    "# this will produce two files, one for each model\n",
    "\n",
    "for i in range(5):\n",
    "    word_generated = generate_seq(word_model, word_tokenizer, [random.randint(1, 25374)] * 100)\n",
    "    char_generated = generate_seq(char_model, char_tokenizer, [random.randint(1, 60)] * 100)\n",
    "\n",
    "    words = \"\"\n",
    "    for word in word_generated:\n",
    "        words += \" \" + word_tokenizer.index_word[word]\n",
    "    words += \"\\n\"\n",
    "\n",
    "    chars = \"\"\n",
    "    for char in char_generated:\n",
    "        chars += \" \" + char_tokenizer.index_word[char]\n",
    "    chars += \"\\n\"\n",
    "    \n",
    "    with open('sentencesWord.txt', 'a') as file:\n",
    "        file.write(words)\n",
    "    with open('sentencesChar.txt', 'a') as file:\n",
    "        file.write(chars)"
   ]
  }
 ],
 "metadata": {
  "kernelspec": {
   "display_name": "base",
   "language": "python",
   "name": "python3"
  },
  "language_info": {
   "codemirror_mode": {
    "name": "ipython",
    "version": 3
   },
   "file_extension": ".py",
   "mimetype": "text/x-python",
   "name": "python",
   "nbconvert_exporter": "python",
   "pygments_lexer": "ipython3",
   "version": "3.11.5"
  }
 },
 "nbformat": 4,
 "nbformat_minor": 2
}
